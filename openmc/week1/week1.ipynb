{
 "cells": [
  {
   "cell_type": "code",
   "execution_count": 1,
   "id": "284bec2f",
   "metadata": {},
   "outputs": [],
   "source": [
    "import openmc"
   ]
  },
  {
   "cell_type": "markdown",
   "id": "54c73162",
   "metadata": {},
   "source": [
    "## Week 1\n",
    "\n",
    "OpenMC has three basic data structures that are used in the Monte Carlo Simulation\n",
    "- Materials\n",
    "- Geometry\n",
    "- Settings"
   ]
  },
  {
   "cell_type": "code",
   "execution_count": 2,
   "id": "51e88af1",
   "metadata": {},
   "outputs": [],
   "source": [
    "# Materials\n",
    "mymat = openmc.Material()\n",
    "mymat.add_element('U', percent=0.333, enrichment=5.0)\n",
    "mymat.add_element('O', percent=0.666, percent_type='ao')\n",
    "\n",
    "\n",
    "fuel = mymat"
   ]
  },
  {
   "cell_type": "code",
   "execution_count": 3,
   "id": "3e7422cb",
   "metadata": {},
   "outputs": [],
   "source": [
    "fuel.set_density('g/cm3', density=10.5)"
   ]
  },
  {
   "cell_type": "code",
   "execution_count": 4,
   "id": "526aba13",
   "metadata": {},
   "outputs": [],
   "source": [
    "water = openmc.Material(name='water')\n",
    "water.add_element('H', percent=0.666)\n",
    "water.add_element('O', percent=0.333)"
   ]
  },
  {
   "cell_type": "code",
   "execution_count": 5,
   "id": "e694fe65",
   "metadata": {},
   "outputs": [],
   "source": [
    "water.set_density('g/cm3', density=1.0)"
   ]
  },
  {
   "cell_type": "code",
   "execution_count": 6,
   "id": "cfb864d0",
   "metadata": {},
   "outputs": [],
   "source": [
    "mats = openmc.Materials([fuel, water])\n",
    "mats.export_to_xml()"
   ]
  },
  {
   "cell_type": "code",
   "execution_count": 7,
   "id": "7b7ffb33",
   "metadata": {},
   "outputs": [],
   "source": [
    "# Geometry\n",
    "geo = openmc.Geometry()\n",
    "\n",
    "s1 = openmc.ZCylinder(r=1.5)\n",
    "c1 = openmc.Cell(region=-s1, name='fuel')\n",
    "c1.fill = fuel"
   ]
  },
  {
   "cell_type": "code",
   "execution_count": 8,
   "id": "b33803c1",
   "metadata": {},
   "outputs": [],
   "source": [
    "bb = openmc.model.rectangular_prism(5.0, 5.0, boundary_type='reflective')\n",
    "c2 = openmc.Cell(region=(+s1 & bb), name='water')\n",
    "c2.fill = water"
   ]
  },
  {
   "cell_type": "code",
   "execution_count": 9,
   "id": "a6fd844b",
   "metadata": {},
   "outputs": [],
   "source": [
    "univ = openmc.Universe(cells=[c1, c2])"
   ]
  },
  {
   "cell_type": "code",
   "execution_count": 10,
   "id": "8859c7f6",
   "metadata": {},
   "outputs": [],
   "source": [
    "geo.root_universe = univ"
   ]
  },
  {
   "cell_type": "code",
   "execution_count": 11,
   "id": "0b3eba89",
   "metadata": {},
   "outputs": [],
   "source": [
    "geo.export_to_xml()"
   ]
  },
  {
   "cell_type": "code",
   "execution_count": 12,
   "id": "d439d330",
   "metadata": {},
   "outputs": [
    {
     "data": {
      "text/plain": [
       "<matplotlib.image.AxesImage at 0x7f00308ac100>"
      ]
     },
     "execution_count": 12,
     "metadata": {},
     "output_type": "execute_result"
    },
    {
     "data": {
      "image/png": "[encoded data removed]",
      "text/plain": [
       "<Figure size 258.065x259.74 with 1 Axes>"
      ]
     },
     "metadata": {},
     "output_type": "display_data"
    }
   ],
   "source": [
    "# Visualize Geometry\n",
    "colormap = {fuel: 'red', water: 'blue'}\n",
    "univ.plot(width=(6,6), colors=colormap, color_by='material',\n",
    "         basis='xz')"
   ]
  },
  {
   "cell_type": "code",
   "execution_count": 13,
   "id": "535148b2",
   "metadata": {},
   "outputs": [],
   "source": [
    "plots = openmc.Plots()"
   ]
  },
  {
   "cell_type": "code",
   "execution_count": 14,
   "id": "0b741b2e",
   "metadata": {},
   "outputs": [],
   "source": [
    "myplot = openmc.Plot()\n",
    "myplot.basis = 'xy'\n",
    "myplot.width = (5, 5)\n",
    "myplot.color_by = 'material'\n",
    "myplot.colors = colormap\n"
   ]
  },
  {
   "cell_type": "code",
   "execution_count": 15,
   "id": "2c7f9786",
   "metadata": {},
   "outputs": [],
   "source": [
    "plots.append(myplot)"
   ]
  },
  {
   "cell_type": "code",
   "execution_count": 16,
   "id": "65c4beb8",
   "metadata": {},
   "outputs": [],
   "source": [
    "myplot = openmc.Plot()\n",
    "myplot.basis = 'xz'\n",
    "myplot.width = (5, 5)\n",
    "myplot.color_by = 'material'\n",
    "myplot.colors = colormap"
   ]
  },
  {
   "cell_type": "code",
   "execution_count": 17,
   "id": "7e1ecc00",
   "metadata": {},
   "outputs": [],
   "source": [
    "plots.export_to_xml()"
   ]
  },
  {
   "cell_type": "code",
   "execution_count": 18,
   "id": "78f3cdf2",
   "metadata": {},
   "outputs": [],
   "source": [
    "# Settings\n",
    "settings = openmc.Settings()\n",
    "settings.particles = 1000\n",
    "settings.batches = 50\n",
    "settings.inactive = 10\n",
    "settings.seed = 5\n",
    "\n",
    "settings.export_to_xml()"
   ]
  },
  {
   "cell_type": "code",
   "execution_count": 19,
   "id": "6023500b",
   "metadata": {},
   "outputs": [],
   "source": [
    "# Tallies\n",
    "fission = openmc.Tally(name='fission')"
   ]
  },
  {
   "cell_type": "markdown",
   "id": "394a2503",
   "metadata": {},
   "source": [
    "Now we need to create a filter!"
   ]
  },
  {
   "cell_type": "code",
   "execution_count": 31,
   "id": "d5f8e06a",
   "metadata": {},
   "outputs": [],
   "source": [
    "# Create mesh which will be used for tally\n",
    "mesh = openmc.RegularMesh()\n",
    "mesh.dimension = [100, 100]\n",
    "mesh.lower_left = [-3, -3]\n",
    "mesh.upper_right = [3, 3]\n",
    "\n",
    "# Create mesh filter for tally\n",
    "mesh_filter = openmc.MeshFilter(mesh)"
   ]
  },
  {
   "cell_type": "code",
   "execution_count": 32,
   "id": "ee933a3d",
   "metadata": {},
   "outputs": [],
   "source": [
    "fission.filters = [mesh_filter]\n",
    "fission.nuclides = fuel.get_nuclides()"
   ]
  },
  {
   "cell_type": "code",
   "execution_count": 33,
   "id": "0d50301c",
   "metadata": {},
   "outputs": [],
   "source": [
    "fission.scores = ['fission', 'absorption', '(n,gamma)']"
   ]
  },
  {
   "cell_type": "code",
   "execution_count": 34,
   "id": "e191d49e",
   "metadata": {},
   "outputs": [],
   "source": [
    "tallies = openmc.Tallies([fission])"
   ]
  },
  {
   "cell_type": "code",
   "execution_count": 35,
   "id": "10be42e7",
   "metadata": {},
   "outputs": [],
   "source": [
    "tallies.export_to_xml()"
   ]
  },
  {
   "cell_type": "code",
   "execution_count": 38,
   "id": "25119c80",
   "metadata": {},
   "outputs": [
    {
     "name": "stdout",
     "output_type": "stream",
     "text": [
      "                                %%%%%%%%%%%%%%%\n",
      "                           %%%%%%%%%%%%%%%%%%%%%%%%\n",
      "                        %%%%%%%%%%%%%%%%%%%%%%%%%%%%%%\n",
      "                      %%%%%%%%%%%%%%%%%%%%%%%%%%%%%%%%%%\n",
      "                    %%%%%%%%%%%%%%%%%%%%%%%%%%%%%%%%%%%%%%\n",
      "                   %%%%%%%%%%%%%%%%%%%%%%%%%%%%%%%%%%%%%%%%\n",
      "                                    %%%%%%%%%%%%%%%%%%%%%%%%\n",
      "                                     %%%%%%%%%%%%%%%%%%%%%%%%\n",
      "                 ###############      %%%%%%%%%%%%%%%%%%%%%%%%\n",
      "                ##################     %%%%%%%%%%%%%%%%%%%%%%%\n",
      "                ###################     %%%%%%%%%%%%%%%%%%%%%%%\n",
      "                ####################     %%%%%%%%%%%%%%%%%%%%%%\n",
      "                #####################     %%%%%%%%%%%%%%%%%%%%%\n",
      "                ######################     %%%%%%%%%%%%%%%%%%%%\n",
      "                #######################     %%%%%%%%%%%%%%%%%%\n",
      "                 #######################     %%%%%%%%%%%%%%%%%\n",
      "                 ######################     %%%%%%%%%%%%%%%%%\n",
      "                  ####################     %%%%%%%%%%%%%%%%%\n",
      "                    #################     %%%%%%%%%%%%%%%%%\n",
      "                     ###############     %%%%%%%%%%%%%%%%\n",
      "                       ############     %%%%%%%%%%%%%%%\n",
      "                          ########     %%%%%%%%%%%%%%\n",
      "                                      %%%%%%%%%%%\n",
      "\n",
      "                 | The OpenMC Monte Carlo Code\n",
      "       Copyright | 2011-2022 MIT, UChicago Argonne LLC, and contributors\n",
      "         License | https://docs.openmc.org/en/latest/license.html\n",
      "         Version | 0.14.0-dev\n",
      "        Git SHA1 | c6a0381de74ee4c2b554a16a90bd2019322dde70\n",
      "       Date/Time | 2022-09-29 15:43:34\n",
      "  OpenMP Threads | 12\n",
      "\n",
      " Reading settings XML file...\n",
      " Reading cross sections XML file...\n",
      " Reading materials XML file...\n",
      " Reading geometry XML file...\n",
      " Reading U234 from\n",
      " /home/ooblack/projects/cross-section-libraries/endfb71_hdf5/U234.h5\n",
      " Reading U235 from\n",
      " /home/ooblack/projects/cross-section-libraries/endfb71_hdf5/U235.h5\n",
      " Reading U238 from\n",
      " /home/ooblack/projects/cross-section-libraries/endfb71_hdf5/U238.h5\n",
      " Reading U236 from\n",
      " /home/ooblack/projects/cross-section-libraries/endfb71_hdf5/U236.h5\n",
      " Reading O16 from\n",
      " /home/ooblack/projects/cross-section-libraries/endfb71_hdf5/O16.h5\n",
      " Reading O17 from\n",
      " /home/ooblack/projects/cross-section-libraries/endfb71_hdf5/O17.h5\n",
      " Reading H1 from\n",
      " /home/ooblack/projects/cross-section-libraries/endfb71_hdf5/H1.h5\n",
      " Reading H2 from\n",
      " /home/ooblack/projects/cross-section-libraries/endfb71_hdf5/H2.h5\n",
      " Minimum neutron data temperature: 294 K\n",
      " Maximum neutron data temperature: 294 K\n",
      " Reading tallies XML file...\n",
      " Preparing distributed cell instances...\n",
      " Reading plot XML file...\n",
      " Writing summary.h5 file...\n",
      " Maximum neutron transport energy: 20000000 eV for U235\n",
      " Initializing source particles...\n",
      "\n",
      " ====================>     K EIGENVALUE SIMULATION     <====================\n",
      "\n",
      "  Bat./Gen.      k            Average k\n",
      "  =========   ========   ====================\n",
      "        1/1    1.51137\n",
      "        2/1    1.48455\n",
      "        3/1    1.52834\n",
      "        4/1    1.52615\n",
      "        5/1    1.53331\n",
      "        6/1    1.61900\n",
      "        7/1    1.49479\n",
      "        8/1    1.42106\n",
      "        9/1    1.40485\n",
      "       10/1    1.61618\n",
      "       11/1    1.47943\n",
      "       12/1    1.40334    1.44138 +/- 0.03804\n",
      "       13/1    1.39556    1.42611 +/- 0.02675\n",
      "       14/1    1.52539    1.45093 +/- 0.03121\n",
      "       15/1    1.42821    1.44639 +/- 0.02460\n",
      "       16/1    1.54093    1.46214 +/- 0.02553\n",
      "       17/1    1.50198    1.46783 +/- 0.02231\n",
      "       18/1    1.49398    1.47110 +/- 0.01960\n",
      "       19/1    1.50702    1.47509 +/- 0.01774\n",
      "       20/1    1.43864    1.47145 +/- 0.01628\n",
      "       21/1    1.43139    1.46781 +/- 0.01517\n",
      "       22/1    1.44661    1.46604 +/- 0.01396\n",
      "       23/1    1.49965    1.46863 +/- 0.01310\n",
      "       24/1    1.49621    1.47060 +/- 0.01229\n",
      "       25/1    1.47215    1.47070 +/- 0.01144\n",
      "       26/1    1.49488    1.47221 +/- 0.01081\n",
      "       27/1    1.53706    1.47602 +/- 0.01084\n",
      "       28/1    1.50653    1.47772 +/- 0.01036\n",
      "       29/1    1.52358    1.48013 +/- 0.01009\n",
      "       30/1    1.45437    1.47885 +/- 0.00966\n",
      "       31/1    1.46892    1.47837 +/- 0.00920\n",
      "       32/1    1.44837    1.47701 +/- 0.00888\n",
      "       33/1    1.48663    1.47743 +/- 0.00850\n",
      "       34/1    1.55409    1.48062 +/- 0.00874\n",
      "       35/1    1.42694    1.47847 +/- 0.00865\n",
      "       36/1    1.54318    1.48096 +/- 0.00868\n",
      "       37/1    1.55563    1.48373 +/- 0.00880\n",
      "       38/1    1.41869    1.48141 +/- 0.00879\n",
      "       39/1    1.46624    1.48088 +/- 0.00850\n",
      "       40/1    1.52835    1.48247 +/- 0.00836\n",
      "       41/1    1.51485    1.48351 +/- 0.00815\n",
      "       42/1    1.60009    1.48715 +/- 0.00869\n",
      "       43/1    1.57101    1.48969 +/- 0.00880\n",
      "       44/1    1.46283    1.48890 +/- 0.00857\n",
      "       45/1    1.44938    1.48777 +/- 0.00840\n",
      "       46/1    1.37952    1.48477 +/- 0.00870\n",
      "       47/1    1.53103    1.48602 +/- 0.00856\n",
      "       48/1    1.42511    1.48442 +/- 0.00848\n",
      "       49/1    1.48734    1.48449 +/- 0.00826\n",
      "       50/1    1.62207    1.48793 +/- 0.00875\n",
      " Creating state point statepoint.50.h5...\n",
      "\n",
      " =======================>     TIMING STATISTICS     <=======================\n",
      "\n",
      " Total time for initialization     = 2.4717e+00 seconds\n",
      "   Reading cross sections          = 2.4173e+00 seconds\n",
      " Total time in simulation          = 3.0898e+01 seconds\n",
      "   Time in transport only          = 2.8943e+01 seconds\n",
      "   Time in inactive batches        = 1.4231e+00 seconds\n",
      "   Time in active batches          = 2.9475e+01 seconds\n",
      "   Time synchronizing fission bank = 8.6870e-03 seconds\n",
      "     Sampling source sites         = 8.2900e-03 seconds\n",
      "     SEND/RECV source sites        = 3.3178e-04 seconds\n",
      "   Time accumulating tallies       = 1.8353e+00 seconds\n",
      "   Time writing statepoints        = 1.9409e-02 seconds\n",
      " Total time for finalization       = 1.4119e+00 seconds\n",
      " Total time elapsed                = 3.4883e+01 seconds\n",
      " Calculation Rate (inactive)       = 7027.07 particles/second\n",
      " Calculation Rate (active)         = 1357.08 particles/second\n",
      "\n",
      " ============================>     RESULTS     <============================\n",
      "\n",
      " k-effective (Collision)     = 1.48652 +/- 0.00646\n",
      " k-effective (Track-length)  = 1.48793 +/- 0.00875\n",
      " k-effective (Absorption)    = 1.48929 +/- 0.00424\n",
      " Combined k-effective        = 1.48912 +/- 0.00425\n",
      " Leakage Fraction            = 0.00000 +/- 0.00000\n",
      "\n"
     ]
    }
   ],
   "source": [
    "# Run OpenMC\n",
    "openmc.run()"
   ]
  },
  {
   "cell_type": "code",
   "execution_count": 39,
   "id": "c108a67d",
   "metadata": {},
   "outputs": [],
   "source": [
    "# Process Results\n",
    "sp = openmc.StatePoint('statepoint.50.h5')"
   ]
  },
  {
   "cell_type": "code",
   "execution_count": 40,
   "id": "29402605",
   "metadata": {},
   "outputs": [],
   "source": [
    "tally_res = sp.get_tally()"
   ]
  },
  {
   "cell_type": "code",
   "execution_count": 41,
   "id": "d5e43d1b",
   "metadata": {},
   "outputs": [],
   "source": [
    "fission = tally_res.get_slice(scores=['fission'])"
   ]
  },
  {
   "cell_type": "code",
   "execution_count": 42,
   "id": "7e038e0d",
   "metadata": {},
   "outputs": [],
   "source": [
    "import matplotlib.pyplot as plt"
   ]
  },
  {
   "cell_type": "code",
   "execution_count": 43,
   "id": "e2b9c28e",
   "metadata": {},
   "outputs": [
    {
     "data": {
      "text/plain": [
       "<matplotlib.image.AxesImage at 0x7f0027582d70>"
      ]
     },
     "execution_count": 43,
     "metadata": {},
     "output_type": "execute_result"
    },
    {
     "data": {
      "image/png": "[encoded data removed]",
      "text/plain": [
       "<Figure size 640x480 with 1 Axes>"
      ]
     },
     "metadata": {},
     "output_type": "display_data"
    }
   ],
   "source": [
    "fig = plt.subplot(121)\n",
    "fig.imshow(fission.mean)"
   ]
  },
  {
   "cell_type": "code",
   "execution_count": null,
   "id": "32ba70bb",
   "metadata": {},
   "outputs": [],
   "source": []
  }
 ],
 "metadata": {
  "kernelspec": {
   "display_name": "Python [conda env:openmc-env] *",
   "language": "python",
   "name": "conda-env-openmc-env-py"
  },
  "language_info": {
   "codemirror_mode": {
    "name": "ipython",
    "version": 3
   },
   "file_extension": ".py",
   "mimetype": "text/x-python",
   "name": "python",
   "nbconvert_exporter": "python",
   "pygments_lexer": "ipython3",
   "version": "3.10.6"
  }
 },
 "nbformat": 4,
 "nbformat_minor": 5
}
