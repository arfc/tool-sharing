{
 "cells": [
  {
   "cell_type": "code",
   "execution_count": 1,
   "id": "67cd60d9",
   "metadata": {},
   "outputs": [],
   "source": [
    "import openmc"
   ]
  },
  {
   "cell_type": "markdown",
   "id": "ee42de31",
   "metadata": {},
   "source": [
    "## Week 1\n",
    "\n",
    "OpenMC has three basic data structures that are used in the Monte Carlo Simulation\n",
    "- Materials\n",
    "- Geometry\n",
    "- Settings"
   ]
  },
  {
   "cell_type": "code",
   "execution_count": 2,
   "id": "83f48c4b",
   "metadata": {},
   "outputs": [],
   "source": [
    "# Materials\n",
    "mymat = openmc.Material()\n",
    "mymat.add_element('U', percent=0.333, enrichment=5.0)\n",
    "mymat.add_element('O', percent=0.666, percent_type='ao')\n",
    "\n",
    "fuel = mymat"
   ]
  },
  {
   "cell_type": "code",
   "execution_count": 3,
   "id": "7ba31733",
   "metadata": {},
   "outputs": [],
   "source": [
    "water = openmc.Material(name='water')\n",
    "water.add_element('H', percent=0.666)\n",
    "water.add_element('O', percent=0.333)"
   ]
  },
  {
   "cell_type": "code",
   "execution_count": 21,
   "id": "fffbf1e6",
   "metadata": {},
   "outputs": [],
   "source": [
    "mats = openmc.Materials([fuel, water])\n",
    "mats.export_to_xml()"
   ]
  },
  {
   "cell_type": "code",
   "execution_count": 5,
   "id": "afac7866",
   "metadata": {},
   "outputs": [],
   "source": [
    "# Geometry\n",
    "geo = openmc.Geometry()\n",
    "\n",
    "s1 = openmc.ZCylinder(r=1.5)\n",
    "c1 = openmc.Cell(region=-s1, name='fuel')\n",
    "c1.fill = fuel"
   ]
  },
  {
   "cell_type": "code",
   "execution_count": 7,
   "id": "b518bf37",
   "metadata": {},
   "outputs": [],
   "source": [
    "c2 = openmc.Cell(region=+s1, name='water')\n",
    "c2.fill = water"
   ]
  },
  {
   "cell_type": "code",
   "execution_count": 9,
   "id": "803b980f",
   "metadata": {},
   "outputs": [],
   "source": [
    "univ = openmc.Universe(cells=[c1, c2])"
   ]
  },
  {
   "cell_type": "code",
   "execution_count": 22,
   "id": "260f8ddc",
   "metadata": {},
   "outputs": [],
   "source": [
    "geo.root_universe = univ"
   ]
  },
  {
   "cell_type": "code",
   "execution_count": 23,
   "id": "64e047ca",
   "metadata": {},
   "outputs": [],
   "source": [
    "geo.export_to_xml()"
   ]
  },
  {
   "cell_type": "code",
   "execution_count": 16,
   "id": "21fd287a",
   "metadata": {},
   "outputs": [
    {
     "data": {
      "text/plain": [
       "<matplotlib.image.AxesImage at 0x7fc69e521d80>"
      ]
     },
     "execution_count": 16,
     "metadata": {},
     "output_type": "execute_result"
    },
    {
     "data": {
      "image/png": "[encoded data removed]",
      "text/plain": [
       "<Figure size 258.065x259.74 with 1 Axes>"
      ]
     },
     "metadata": {},
     "output_type": "display_data"
    }
   ],
   "source": [
    "# Visualize Geometry\n",
    "colormap = {fuel: 'red', water: 'blue'}\n",
    "univ.plot(width=(5,5), colors=colormap, color_by='material',\n",
    "         basis='xz')"
   ]
  },
  {
   "cell_type": "code",
   "execution_count": null,
   "id": "0b4cc962",
   "metadata": {},
   "outputs": [],
   "source": [
    "plots = openmc."
   ]
  },
  {
   "cell_type": "code",
   "execution_count": 19,
   "id": "83267e4f",
   "metadata": {},
   "outputs": [],
   "source": [
    "myplot = openmc.Plot()\n",
    "myplot.basis = 'xy'\n",
    "myplot.width = (5, 5)\n",
    "myplot.color_by = 'material'\n",
    "myplot.colors = colormap\n"
   ]
  },
  {
   "cell_type": "code",
   "execution_count": 18,
   "id": "f2b07026",
   "metadata": {},
   "outputs": [
    {
     "data": {
      "text/plain": [
       "Plot\n",
       "\tID             =\t7\n",
       "\tName           =\t\n",
       "\tFilename       =\tNone\n",
       "\tType           =\tslice\n",
       "\tBasis          =\txy\n",
       "\tWidth          =\t[4.0, 4.0]\n",
       "\tOrigin         =\t[0.0, 0.0, 0.0]\n",
       "\tPixels         =\t[400, 400]\n",
       "\tColor by       =\tcell\n",
       "\tBackground     =\tNone\n",
       "\tMask components=\tNone\n",
       "\tMask background=\tNone\n",
       "\tOverlap Color  =\tNone\n",
       "\tColors         =\t{}\n",
       "\tLevel          =\tNone\n",
       "\tMeshlines      =\tNone"
      ]
     },
     "execution_count": 18,
     "metadata": {},
     "output_type": "execute_result"
    }
   ],
   "source": [
    "myplot"
   ]
  },
  {
   "cell_type": "code",
   "execution_count": null,
   "id": "c4207d5a",
   "metadata": {},
   "outputs": [],
   "source": [
    "# Settings"
   ]
  },
  {
   "cell_type": "code",
   "execution_count": null,
   "id": "3dd2b600",
   "metadata": {},
   "outputs": [],
   "source": [
    "# Run OpenMC"
   ]
  },
  {
   "cell_type": "code",
   "execution_count": null,
   "id": "93c45bc0",
   "metadata": {},
   "outputs": [],
   "source": [
    "# Process Results"
   ]
  }
 ],
 "metadata": {
  "kernelspec": {
   "display_name": "Python [conda env:openmc-env] *",
   "language": "python",
   "name": "conda-env-openmc-env-py"
  },
  "language_info": {
   "codemirror_mode": {
    "name": "ipython",
    "version": 3
   },
   "file_extension": ".py",
   "mimetype": "text/x-python",
   "name": "python",
   "nbconvert_exporter": "python",
   "pygments_lexer": "ipython3",
   "version": "3.10.6"
  }
 },
 "nbformat": 4,
 "nbformat_minor": 5
}
